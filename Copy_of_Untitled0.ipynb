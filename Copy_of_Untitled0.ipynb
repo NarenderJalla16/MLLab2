{
  "nbformat": 4,
  "nbformat_minor": 0,
  "metadata": {
    "colab": {
      "provenance": [],
      "authorship_tag": "ABX9TyM+n7AJE+HH8Fcd/GfM5C3M",
      "include_colab_link": true
    },
    "kernelspec": {
      "name": "python3",
      "display_name": "Python 3"
    },
    "language_info": {
      "name": "python"
    }
  },
  "cells": [
    {
      "cell_type": "markdown",
      "metadata": {
        "id": "view-in-github",
        "colab_type": "text"
      },
      "source": [
        "<a href=\"https://colab.research.google.com/github/NarenderJalla16/MLLab2/blob/main/Copy_of_Untitled0.ipynb\" target=\"_parent\"><img src=\"https://colab.research.google.com/assets/colab-badge.svg\" alt=\"Open In Colab\"/></a>"
      ]
    },
    {
      "cell_type": "code",
      "execution_count": null,
      "metadata": {
        "id": "lAWvz-uoJ5hF"
      },
      "outputs": [],
      "source": [
        "\n",
        "#Program 1 display star pattern\n",
        "num=int(input(\"Enter the length of star pattern\"))\n",
        "for i in range(1,num+1):\n",
        "    print(\"* \"*i)\n",
        "for j in range(i-1,0,-1):\n",
        "    print(\"* \"*j)\n",
        "\n",
        "# Program to dispaly elements at odd indexes in list\n",
        "my_list=[10,20,30,40,50,60,70,80,90,100]\n",
        "for i in range(len(my_list)):\n",
        "    if(i%2!=0):\n",
        "        print(my_list[i])\n",
        "# Program 3 to print type of elements in the list\n",
        "x=[23,\"Python\",23.98]\n",
        "l=[]\n",
        "for i in x:\n",
        "    l.append(type(i))\n",
        "print(l)\n",
        "\n",
        "# Program 4 to return unique elements in the list\n",
        "\n",
        "def uniqueElements(arr):\n",
        "    l=[]\n",
        "    for i in arr:\n",
        "        if( i not in l):\n",
        "            l.append(i)\n",
        "    return l\n",
        "l=[1,2,3,3,3,3,4,5]\n",
        "print(uniqueElements(l))\n",
        "\n",
        "#Program 5 Number of upper and lowercase Char\n",
        "def countCase(s):\n",
        "    lowerCount=0\n",
        "    upperCount=0\n",
        "    for i in s:\n",
        "        if(i.isupper()):\n",
        "            upperCount+=1\n",
        "        if(i.islower()):\n",
        "            lowerCount+=1\n",
        "    print(\"No of Upper-case characters: \",upperCount)\n",
        "    print(\"No  of Lower-case characters: \",lowerCount)\n",
        "\n",
        "countCase(\"The quick Brow Fox\")"
      ]
    },
    {
      "cell_type": "code",
      "source": [],
      "metadata": {
        "id": "eN96DMQjJ7-2"
      },
      "execution_count": null,
      "outputs": []
    }
  ]
}